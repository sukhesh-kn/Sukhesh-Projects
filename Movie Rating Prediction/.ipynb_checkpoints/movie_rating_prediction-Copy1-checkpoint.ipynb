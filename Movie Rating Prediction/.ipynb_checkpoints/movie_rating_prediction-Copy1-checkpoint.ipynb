{
 "cells": [
  {
   "cell_type": "code",
   "execution_count": 5,
   "id": "93f70e7d",
   "metadata": {},
   "outputs": [],
   "source": [
    "import pandas as pd,numpy as np\n",
    "from sklearn.model_selection import train_test_split\n",
    "from sklearn.preprocessing import StandardScaler\n",
    "from sklearn.decomposition import PCA\n",
    "from statsmodels.stats.outliers_influence import variance_inflation_factor\n",
    "#pd.set_option('display.max_columns',None)\n",
    "\n",
    "movies = pd.read_csv('IMDb Movies India.csv',encoding='ISO-8859-1')\n",
    "\n",
    "#remove entries with 'Rating' as null.\n",
    "#Because target variable cannot be null.\n",
    "movies = movies.dropna(subset=['Rating'])\n",
    "movies.drop_duplicates(inplace=True)\n",
    "\n",
    "movies.fillna({\n",
    "    'Year': 'Unknown',\n",
    "    'Duration': '0 min',\n",
    "    'Genre': 'Unknown',\n",
    "    'Votes': 0,\n",
    "    'Director': 'Unknown',\n",
    "    'Actor 1': 'Unknown',\n",
    "    'Actor 2': 'Unknown',\n",
    "    'Actor 3': 'Unknown'\n",
    "}, inplace=True)\n",
    "movies = movies.reset_index(drop=True)\n",
    "#remove () from Year and Duration and make it as int.\n",
    "movies['Duration'] = movies['Duration'].str.extract('(\\d+)').astype(int)\n",
    "movies['Year'] = movies['Year'].str.extract('(\\d{4})').astype(int)\n",
    "movies['Votes'] = movies['Votes'].str.replace(',', '').astype(int)\n",
    "\n",
    "#Data Analysis\n",
    "DAmovies  = movies.copy()\n",
    "DAmovies['Genre'] = DAmovies['Genre'].str.split(', ')\n",
    "DAmovies = DAmovies.explode('Genre').reset_index(drop=True)\n",
    "DAmovies.to_csv(\"/home/mis/Sukhesh/movie_rating_da.csv\",index=False)\n",
    "#creating separate column for each genre\n",
    "# movies['Genre'] = movies['Genre'].str.split(', ')\n",
    "# df_genres = movies['Genre'].str.join('|').str.get_dummies()\n",
    "# movies = pd.concat([movies, df_genres], axis=1)\n",
    "# movies = movies.drop(columns=['Genre'])\n"
   ]
  },
  {
   "cell_type": "code",
   "execution_count": 6,
   "id": "ac408f49",
   "metadata": {},
   "outputs": [],
   "source": [
    "from sklearn import preprocessing\n",
    "le=preprocessing.LabelEncoder()\n",
    "movies['Genre']=le.fit_transform(movies['Genre'])\n",
    "movies['Director']=le.fit_transform(movies['Director'])\n",
    "movies['Actor 1']=le.fit_transform(movies['Actor 1'])\n",
    "movies['Actor 2']=le.fit_transform(movies['Actor 2'])\n",
    "movies['Actor 3']=le.fit_transform(movies['Actor 3'])\n"
   ]
  },
  {
   "cell_type": "code",
   "execution_count": 8,
   "id": "cacb3781",
   "metadata": {},
   "outputs": [],
   "source": [
    "scaler = StandardScaler()\n",
    "movies[['Votes', 'Duration']] = scaler.fit_transform(movies[['Votes', 'Duration']])\n",
    "movies\n",
    "# #one-hot Encoding\n",
    "# movies_updated = pd.get_dummies(movies, columns=['Director', 'Actor 1', 'Actor 2', 'Actor 3'], drop_first=True)\n",
    "# movies_updated.head()\n",
    "\n",
    "# Train-test split\n",
    "X = movies.drop(columns=['Rating', 'Name'])\n",
    "y = movies['Rating']\n"
   ]
  },
  {
   "cell_type": "code",
   "execution_count": 9,
   "id": "44892433",
   "metadata": {},
   "outputs": [
    {
     "name": "stdout",
     "output_type": "stream",
     "text": [
      "    feature        VIF\n",
      "0      Year  14.809497\n",
      "1  Duration   1.026064\n",
      "2     Genre   3.372970\n",
      "3     Votes   1.021156\n",
      "4  Director   4.154706\n",
      "5   Actor 1   4.155022\n",
      "6   Actor 2   4.298379\n",
      "7   Actor 3   4.260225\n",
      "Polynomial Linear Regression\n",
      "  MAE: 0.9910047401000893\n",
      "  MSE: 1.5810085618798433\n",
      "  R²: 0.1695072843453742\n"
     ]
    }
   ],
   "source": [
    "# Check for multicollinearity\n",
    "vif_data = pd.DataFrame()\n",
    "vif_data[\"feature\"] = X.columns\n",
    "vif_data[\"VIF\"] = [variance_inflation_factor(X.values, i) for i in range(len(X.columns))]\n",
    "print(vif_data)\n",
    "\n",
    "# Apply polynomial features\n",
    "from sklearn.preprocessing import PolynomialFeatures\n",
    "from sklearn.linear_model import LinearRegression\n",
    "from sklearn.metrics import mean_absolute_error, mean_squared_error, r2_score\n",
    "\n",
    "poly = PolynomialFeatures(degree=2)\n",
    "X_poly = poly.fit_transform(X)\n",
    "\n",
    "# Train-test split with polynomial features\n",
    "X_train_poly, X_test_poly, y_train, y_test = train_test_split(X_poly, y, test_size=0.3, random_state=42)\n",
    "\n",
    "# Linear Regression with polynomial features\n",
    "model_poly = LinearRegression()\n",
    "model_poly.fit(X_train_poly, y_train)\n",
    "y_pred_poly = model_poly.predict(X_test_poly)\n",
    "\n",
    "# Evaluate the model\n",
    "print(\"Polynomial Linear Regression\")\n",
    "print(\"  MAE:\", mean_absolute_error(y_test, y_pred_poly))\n",
    "print(\"  MSE:\", mean_squared_error(y_test, y_pred_poly))\n",
    "print(\"  R²:\", r2_score(y_test, y_pred_poly))\n"
   ]
  },
  {
   "cell_type": "code",
   "execution_count": null,
   "id": "5599c40f",
   "metadata": {},
   "outputs": [],
   "source": [
    "X_train, X_test, y_train, y_test = train_test_split(X, y, test_size=0.3, random_state=42)"
   ]
  },
  {
   "cell_type": "code",
   "execution_count": null,
   "id": "02a4739d",
   "metadata": {},
   "outputs": [],
   "source": [
    "from sklearn.linear_model import LinearRegression\n",
    "from sklearn.tree import DecisionTreeRegressor\n",
    "from sklearn.ensemble import RandomForestRegressor, GradientBoostingRegressor\n",
    "from lightgbm import LGBMRegressor\n",
    "from sklearn.svm import SVR\n",
    "from xgboost import XGBRegressor\n",
    "from sklearn.metrics import mean_absolute_error, mean_squared_error, r2_score\n",
    "\n",
    "# Initialize the models using user defined Function\n",
    "models = {\n",
    "    \"Linear Regression\": LinearRegression(),\n",
    "    \"Decision Tree Regressor\": DecisionTreeRegressor(),\n",
    "    \"Random Forest Regressor\": RandomForestRegressor(),\n",
    "    \"Gradient Boosting Regressor\": GradientBoostingRegressor(),\n",
    "    \"Support Vector Regressor\": SVR(),\n",
    "    \"XGBoost Regressor\": XGBRegressor()\n",
    "}\n",
    "\n",
    "results = {}\n",
    "for name, model in models.items():\n",
    "    print(name)\n",
    "    model.fit(X_train, y_train)\n",
    "    y_pred = model.predict(X_test)\n",
    "    results[name] = {\n",
    "        \"MAE\": mean_absolute_error(y_test, y_pred),\n",
    "        \"MSE\": mean_squared_error(y_test, y_pred),\n",
    "        \"R²\": r2_score(y_test, y_pred)\n",
    "    }\n",
    "\n",
    "for name, metrics in results.items():\n",
    "    print(f\"Model: {name}\")\n",
    "    print(f\"  MAE: {metrics['MAE']}\")\n",
    "    print(f\"  MSE: {metrics['MSE']}\")\n",
    "    print(f\"  R²: {metrics['R²']}\\n\")    "
   ]
  },
  {
   "cell_type": "code",
   "execution_count": null,
   "id": "c1a3df1f",
   "metadata": {},
   "outputs": [],
   "source": [
    "movies_updated"
   ]
  },
  {
   "cell_type": "code",
   "execution_count": null,
   "id": "2a8df417",
   "metadata": {},
   "outputs": [],
   "source": []
  }
 ],
 "metadata": {
  "kernelspec": {
   "display_name": "Python 3 (ipykernel)",
   "language": "python",
   "name": "python3"
  },
  "language_info": {
   "codemirror_mode": {
    "name": "ipython",
    "version": 3
   },
   "file_extension": ".py",
   "mimetype": "text/x-python",
   "name": "python",
   "nbconvert_exporter": "python",
   "pygments_lexer": "ipython3",
   "version": "3.9.19"
  }
 },
 "nbformat": 4,
 "nbformat_minor": 5
}

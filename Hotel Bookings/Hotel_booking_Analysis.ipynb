{
 "cells": [
  {
   "cell_type": "markdown",
   "id": "20b184da",
   "metadata": {
    "id": "20b184da"
   },
   "source": [
    "## 1.. Lets read data !"
   ]
  },
  {
   "cell_type": "code",
   "execution_count": 15,
   "id": "e99f2e12",
   "metadata": {
    "executionInfo": {
     "elapsed": 6,
     "status": "ok",
     "timestamp": 1706086880476,
     "user": {
      "displayName": "Sukhesh K N",
      "userId": "08103132203405601732"
     },
     "user_tz": -330
    },
    "id": "e99f2e12"
   },
   "outputs": [],
   "source": [
    "import pandas as pd\n",
    "import numpy as np\n",
    "import seaborn as sns\n",
    "import matplotlib.pyplot as plt\n",
    "pd.set_option('display.max_columns', None)"
   ]
  },
  {
   "cell_type": "code",
   "execution_count": 16,
   "id": "d467265e",
   "metadata": {
    "executionInfo": {
     "elapsed": 879,
     "status": "ok",
     "timestamp": 1706086881351,
     "user": {
      "displayName": "Sukhesh K N",
      "userId": "08103132203405601732"
     },
     "user_tz": -330
    },
    "id": "d467265e"
   },
   "outputs": [],
   "source": [
    "df = pd.read_csv('/home/mis/Downloads/Hotel Bookings/hotel_bookings.csv')\n",
    "\n",
    "filter1 = (df['children']==0) & (df['adults']==0) & (df['babies']==0)\n",
    "## Adults,babies & children cant be zero at a same time bcz booking couldn't be possible if these 3 attributes are 0 ..\n",
    "df2 = df[~filter1]\n",
    "data= df2.drop_duplicates()\n",
    "data[['lead_time' , 'total_of_special_requests' , 'adr']].describe().T\n",
    "## getting (mean, median , std , percentile) of above features\n",
    "data = data.reset_index(drop=True)\n",
    "\n",
    "dict_month = {'July':7, 'August':8, 'September':9, 'October':10, 'November':11, 'December':12,\n",
    "       'January':1, 'February':2, 'March':3, 'April':4, 'May':5, 'June':6}\n",
    "\n",
    "data['arrival_date_month_index'] = data['arrival_date_month'].map(dict_month)\n",
    "data['arrival_date'] = data['arrival_date_year'].astype(str) + '-' + data['arrival_date_month_index'].astype(str) + '-' + data['arrival_date_day_of_month'].astype(str)\n",
    "data['arrival_date'] = pd.to_datetime(data['arrival_date']).dt.date"
   ]
  },
  {
   "cell_type": "code",
   "execution_count": 17,
   "id": "6c10fc9e",
   "metadata": {},
   "outputs": [],
   "source": [
    "data = data[data['arrival_date'].astype(str)>='2016-01-01']"
   ]
  },
  {
   "cell_type": "code",
   "execution_count": 18,
   "id": "ea1def13",
   "metadata": {},
   "outputs": [],
   "source": [
    "data.to_csv(\"/home/mis/Downloads/Hotel Bookings/proccessed_input_hotel_bookings.csv\",index=False)"
   ]
  },
  {
   "cell_type": "code",
   "execution_count": null,
   "id": "86c39910",
   "metadata": {},
   "outputs": [],
   "source": [
    "'''\n",
    "print quantile values ..\n",
    "\n",
    "'''\n",
    "\n",
    "for col in ['lead_time' , 'total_of_special_requests' , 'adr']:\n",
    "    print('feature name : {}'.format(col))\n",
    "\n",
    "    for i in range(90,101,1):\n",
    "        quantile_value = np.quantile(data[col] , q=i/100)\n",
    "        print('{}th quantile value is {}'.format(i , quantile_value))\n",
    "    print('\\n')\n",
    "    \n",
    "'''\n",
    "\"adr\" feature seems to have Outlier as 99th percentile value\n",
    "is 261 but 100th percentile(max value) is 5400 ..\n",
    "'''"
   ]
  },
  {
   "cell_type": "code",
   "execution_count": null,
   "id": "uS8OXIrsq04B",
   "metadata": {
    "colab": {
     "base_uri": "https://localhost:8080/",
     "height": 313
    },
    "executionInfo": {
     "elapsed": 6,
     "status": "ok",
     "timestamp": 1706086881779,
     "user": {
      "displayName": "Sukhesh K N",
      "userId": "08103132203405601732"
     },
     "user_tz": -330
    },
    "id": "uS8OXIrsq04B",
    "outputId": "d9879975-2fc1-4df2-e25a-c2cedc376d88"
   },
   "outputs": [],
   "source": [
    "df.head()"
   ]
  },
  {
   "cell_type": "code",
   "execution_count": null,
   "id": "969fabbe",
   "metadata": {
    "executionInfo": {
     "elapsed": 3,
     "status": "ok",
     "timestamp": 1706087671176,
     "user": {
      "displayName": "Sukhesh K N",
      "userId": "08103132203405601732"
     },
     "user_tz": -330
    },
    "id": "969fabbe"
   },
   "outputs": [],
   "source": [
    "not_cancelled = data[data['is_canceled']==0]\n",
    "country_wise_data = not_cancelled['country'].value_counts().reset_index()\n",
    "country_wise_data.columns = ['country' , 'No of guests']\n",
    "\n",
    "\n",
    "!pip install chart-studio\n",
    "!pip install plotly\n",
    "\n",
    "### establishing the entire set-up of Plotly..\n",
    "\n",
    "import chart_studio.plotly as py\n",
    "## chart_studio provides a web-service for hosting graphs!\n",
    "\n",
    "import plotly.graph_objs as go\n",
    "import plotly.express as px\n",
    "\n",
    "from plotly.offline import download_plotlyjs , init_notebook_mode , plot , iplot\n",
    "\n",
    "## iplot() when working in a Jupyter Notebook to\n",
    "## display the plot in the Ipython notebook.\n",
    "\n",
    "init_notebook_mode(connected=True)\n",
    "\n",
    "\n",
    "# show on map\n",
    "\n",
    "map_guest = px.choropleth(data_frame = country_wise_data ,\n",
    "              locations= country_wise_data['country'] ,\n",
    "              color=country_wise_data['No of guests'] ,\n",
    "              hover_name=country_wise_data['country'] ,\n",
    "              title= \"Home country of Guests\"\n",
    "\n",
    "             )\n",
    "\n",
    "map_guest.show()\n",
    "\n",
    "'''Most guests are from Portugal and other countries in Europe'''\n"
   ]
  },
  {
   "cell_type": "code",
   "execution_count": null,
   "id": "d9c29456",
   "metadata": {
    "id": "d9c29456"
   },
   "outputs": [],
   "source": [
    "category_pivot = pd.crosstab(index = data['reserved_room_type'] , columns=data['assigned_room_type'] , margins=True  )\n",
    "\n",
    "'''\n",
    "lets find meaningful insight from this :\n",
    "for A category room , 56436 folks have reserved \"A\" & 45850 folks get assigned_room as \"A\".. & rest are unable to get !\n",
    "for B category room , 996 folks have reserved \"B\" &  872 folks get assigned_room as \"B\".. & rest are unable to get !\n",
    "'''\n",
    "\n",
    "category_pivot"
   ]
  },
  {
   "cell_type": "code",
   "execution_count": null,
   "id": "eef96af9",
   "metadata": {},
   "outputs": [],
   "source": [
    "## we will say just normalize over row , hence we need to pass normalize = 'index'\n",
    "pivot_normalize = pd.crosstab(index = data['reserved_room_type'] , columns=data['assigned_room_type'] , margins=True ,normalize='index' ).round(2)*100\n",
    "\n",
    "'''\n",
    "Q.. Is any difference between assigned and reserved room type ?\n",
    "Ans : Yes\n",
    "'''\n",
    "pivot_normalize"
   ]
  },
  {
   "cell_type": "code",
   "execution_count": null,
   "id": "70203aac",
   "metadata": {},
   "outputs": [],
   "source": [
    "data.shape"
   ]
  },
  {
   "cell_type": "code",
   "execution_count": null,
   "id": "2a0b2b6d",
   "metadata": {
    "id": "2a0b2b6d"
   },
   "outputs": [],
   "source": [
    "# pie plot\n",
    "fig = px.pie(data ,\n",
    "      values = data['market_segment'].value_counts().values ,\n",
    "      names = data['market_segment'].value_counts().index)\n",
    "fig.show()"
   ]
  },
  {
   "cell_type": "code",
   "execution_count": null,
   "id": "9277fe03",
   "metadata": {
    "id": "9277fe03"
   },
   "outputs": [],
   "source": []
  },
  {
   "cell_type": "code",
   "execution_count": null,
   "id": "6658a1a4",
   "metadata": {
    "id": "6658a1a4"
   },
   "outputs": [],
   "source": []
  },
  {
   "cell_type": "code",
   "execution_count": null,
   "id": "cce9424a",
   "metadata": {
    "id": "cce9424a"
   },
   "outputs": [],
   "source": []
  }
 ],
 "metadata": {
  "colab": {
   "provenance": []
  },
  "kernelspec": {
   "display_name": "Python 3 (ipykernel)",
   "language": "python",
   "name": "python3"
  },
  "language_info": {
   "codemirror_mode": {
    "name": "ipython",
    "version": 3
   },
   "file_extension": ".py",
   "mimetype": "text/x-python",
   "name": "python",
   "nbconvert_exporter": "python",
   "pygments_lexer": "ipython3",
   "version": "3.9.12"
  }
 },
 "nbformat": 4,
 "nbformat_minor": 5
}

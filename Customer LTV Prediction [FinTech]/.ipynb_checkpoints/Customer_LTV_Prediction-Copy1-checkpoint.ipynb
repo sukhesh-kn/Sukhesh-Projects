{
 "cells": [
  {
   "cell_type": "code",
   "execution_count": 1,
   "id": "51224c8f-5e48-4b50-ad8b-a19e4fabf8c9",
   "metadata": {},
   "outputs": [
    {
     "ename": "ModuleNotFoundError",
     "evalue": "No module named 'xgboost'",
     "output_type": "error",
     "traceback": [
      "\u001b[0;31m---------------------------------------------------------------------------\u001b[0m",
      "\u001b[0;31mModuleNotFoundError\u001b[0m                       Traceback (most recent call last)",
      "Cell \u001b[0;32mIn[1], line 12\u001b[0m\n\u001b[1;32m     10\u001b[0m \u001b[38;5;28;01mfrom\u001b[39;00m \u001b[38;5;21;01msklearn\u001b[39;00m\u001b[38;5;21;01m.\u001b[39;00m\u001b[38;5;21;01mpreprocessing\u001b[39;00m \u001b[38;5;28;01mimport\u001b[39;00m LabelEncoder, StandardScaler\n\u001b[1;32m     11\u001b[0m \u001b[38;5;28;01mfrom\u001b[39;00m \u001b[38;5;21;01msklearn\u001b[39;00m\u001b[38;5;21;01m.\u001b[39;00m\u001b[38;5;21;01mensemble\u001b[39;00m \u001b[38;5;28;01mimport\u001b[39;00m RandomForestRegressor\n\u001b[0;32m---> 12\u001b[0m \u001b[38;5;28;01mfrom\u001b[39;00m \u001b[38;5;21;01mxgboost\u001b[39;00m \u001b[38;5;28;01mimport\u001b[39;00m XGBRegressor\n\u001b[1;32m     13\u001b[0m \u001b[38;5;28;01mfrom\u001b[39;00m \u001b[38;5;21;01msklearn\u001b[39;00m\u001b[38;5;21;01m.\u001b[39;00m\u001b[38;5;21;01mmetrics\u001b[39;00m \u001b[38;5;28;01mimport\u001b[39;00m mean_squared_error, r2_score\n",
      "\u001b[0;31mModuleNotFoundError\u001b[0m: No module named 'xgboost'"
     ]
    }
   ],
   "source": [
    "# LTV Prediction using XGBoost and Random Forest\n",
    "\n",
    "import pandas as pd\n",
    "import numpy as np\n",
    "import matplotlib.pyplot as plt\n",
    "import seaborn as sns\n",
    "\n",
    "from sklearn.model_selection import train_test_split\n",
    "from sklearn.preprocessing import LabelEncoder, StandardScaler\n",
    "from sklearn.ensemble import RandomForestRegressor\n",
    "from xgboost import XGBRegressor\n",
    "from sklearn.metrics import mean_squared_error, r2_score\n",
    "\n"
   ]
  },
  {
   "cell_type": "code",
   "execution_count": null,
   "id": "4e47e58c-ec16-4c56-838f-f1460b5560e8",
   "metadata": {},
   "outputs": [],
   "source": [
    "# 📥 Step 2: Load Dataset\n",
    "df = pd.read_csv(\"digital_wallet_ltv_dataset.csv\")  # replace with actual file name\n",
    "\n",
    "# 🧹 Step 3: Data Cleaning\n",
    "df.dropna(subset=['Customer Lifetime Value'], inplace=True)  # Remove rows with no target\n",
    "\n",
    "# Fill or drop other missing values\n",
    "df.fillna(df.median(numeric_only=True), inplace=True)\n",
    "\n",
    "# 👁️ Step 4: EDA (Optional, expand as needed)\n",
    "print(df.describe())\n",
    "sns.histplot(df['Customer Lifetime Value'], kde=True)\n",
    "plt.title('Customer Lifetime Value Distribution')\n",
    "plt.show()\n",
    "\n",
    "# 🧠 Step 5: Feature Encoding\n",
    "# Encode categorical columns\n",
    "categorical_cols = df.select_dtypes(include=['object']).columns\n",
    "le = LabelEncoder()\n",
    "for col in categorical_cols:\n",
    "    df[col] = le.fit_transform(df[col].astype(str))\n",
    "\n",
    "# 🎯 Step 6: Prepare Features and Target\n",
    "X = df.drop(columns=['Customer Lifetime Value'])\n",
    "y = df['Customer Lifetime Value']\n",
    "\n",
    "# Feature scaling (optional but often useful)\n",
    "scaler = StandardScaler()\n",
    "X_scaled = scaler.fit_transform(X)\n",
    "\n",
    "# 🧪 Step 7: Train-Test Split\n",
    "X_train, X_test, y_train, y_test = train_test_split(X_scaled, y, test_size=0.2, random_state=42)\n",
    "\n",
    "# 🌲 Step 8: Train Models\n",
    "# Random Forest\n",
    "rf = RandomForestRegressor(random_state=42)\n",
    "rf.fit(X_train, y_train)\n",
    "rf_preds = rf.predict(X_test)\n",
    "\n",
    "# XGBoost\n",
    "xgb = XGBRegressor(random_state=42)\n",
    "xgb.fit(X_train, y_train)\n",
    "xgb_preds = xgb.predict(X_test)\n",
    "\n",
    "# 🧾 Step 9: Evaluation\n",
    "def evaluate_model(name, y_true, y_pred):\n",
    "    print(f\"Model: {name}\")\n",
    "    print(f\"R² Score: {r2_score(y_true, y_pred):.4f}\")\n",
    "    print(f\"RMSE: {np.sqrt(mean_squared_error(y_true, y_pred)):.2f}\")\n",
    "    print(\"-\" * 30)\n",
    "\n",
    "evaluate_model(\"Random Forest\", y_test, rf_preds)\n",
    "evaluate_model(\"XGBoost\", y_test, xgb_preds)\n",
    "\n",
    "# 📈 Step 10: Feature Importance (XGBoost)\n",
    "xgb_feat_imp = pd.Series(xgb.feature_importances_, index=df.drop(columns='Customer Lifetime Value').columns)\n",
    "xgb_feat_imp.nlargest(10).plot(kind='barh')\n",
    "plt.title(\"Top 10 Important Features (XGBoost)\")\n",
    "plt.show()\n",
    "\n",
    "# 📤 Step 11: Export Predictions\n",
    "output_df = pd.DataFrame({\n",
    "    'Actual_LTV': y_test,\n",
    "    'Predicted_LTV_RF': rf_preds,\n",
    "    'Predicted_LTV_XGB': xgb_preds\n",
    "})\n",
    "output_df.to_csv(\"ltv_predictions.csv\", index=False)\n",
    "print(\"Predictions saved to ltv_predictions.csv\")\n"
   ]
  }
 ],
 "metadata": {
  "kernelspec": {
   "display_name": "Python 3 (ipykernel)",
   "language": "python",
   "name": "python3"
  },
  "language_info": {
   "codemirror_mode": {
    "name": "ipython",
    "version": 3
   },
   "file_extension": ".py",
   "mimetype": "text/x-python",
   "name": "python",
   "nbconvert_exporter": "python",
   "pygments_lexer": "ipython3",
   "version": "3.12.7"
  }
 },
 "nbformat": 4,
 "nbformat_minor": 5
}
